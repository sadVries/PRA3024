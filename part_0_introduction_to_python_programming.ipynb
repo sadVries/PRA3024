{
  "cells": [
    {
      "cell_type": "markdown",
      "metadata": {
        "id": "view-in-github",
        "colab_type": "text"
      },
      "source": [
        "<a href=\"https://colab.research.google.com/github/sadVries/PRA3024/blob/main/part_0_introduction_to_python_programming.ipynb\" target=\"_parent\"><img src=\"https://colab.research.google.com/assets/colab-badge.svg\" alt=\"Open In Colab\"/></a>"
      ]
    },
    {
      "cell_type": "markdown",
      "metadata": {
        "id": "lcheWC4FqEjw"
      },
      "source": [
        "# Introduction to Python programming"
      ]
    },
    {
      "cell_type": "markdown",
      "metadata": {
        "id": "pt-zQDbQqEjz"
      },
      "source": [
        "This lecture is a reduced version compiled from the following materials:\n",
        "\n",
        "    J.R. Johansson (jrjohansson at gmail.com)\n",
        "    The latest version of this IPython notebook lecture is available at http://github.com/jrjohansson/scientific-python-lectures.\n",
        "    The other notebooks in this lecture series are indexed at http://jrjohansson.github.io.\n",
        "    \n",
        "    https://diveintopython3.problemsolving.io/\n",
        "    \n",
        "    https://www.dataquest.io/blog/jupyter-notebook-tutorial/"
      ]
    },
    {
      "cell_type": "markdown",
      "metadata": {
        "id": "XUGUbuxxqEj0"
      },
      "source": [
        "## Python program files"
      ]
    },
    {
      "cell_type": "markdown",
      "metadata": {
        "id": "pfAyN6hxqEj0"
      },
      "source": [
        "* Python code is usually stored in text files with the file ending \"`.py`\":\n",
        "\n",
        "        myprogram.py\n",
        "\n",
        "* Every line in a Python program file is assumed to be a Python statement, or part thereof.\n",
        "\n",
        "    * The only exception is comment lines, which start with the character `#` (optionally preceded by an arbitrary number of white-space characters, i.e., tabs or spaces). Comment lines are usually ignored by the Python interpreter.\n",
        "\n",
        "\n",
        "* To run our Python program from the command line we use:\n",
        "\n",
        "        $ python myprogram.py\n",
        "\n",
        "* On UNIX systems it is common to define the path to the interpreter on the first line of the program (note that this is a comment line as far as the Python interpreter is concerned):\n",
        "\n",
        "        #!/usr/bin/env python\n",
        "\n",
        "  If we do, and if we additionally set the file script to be executable, we can run the program like this:\n",
        "\n",
        "        $ myprogram.py"
      ]
    },
    {
      "cell_type": "markdown",
      "metadata": {
        "id": "qfrUU2VMqEj1"
      },
      "source": [
        "## IPython notebooks"
      ]
    },
    {
      "cell_type": "markdown",
      "metadata": {
        "id": "6e-6U2MQqEj1"
      },
      "source": [
        "This file - an IPython notebook -  does not follow the standard pattern with Python code in a text file. Instead, an IPython notebook is stored as a file in the [JSON](http://en.wikipedia.org/wiki/JSON) format. The advantage is that we can mix formatted text, Python code and code output. It requires the IPython notebook server to run it though, and therefore isn't a stand-alone Python program as described above. Other than that, there is no difference between the Python code that goes into a program file or an IPython notebook."
      ]
    },
    {
      "cell_type": "markdown",
      "metadata": {
        "id": "_fQWTomaqEj1"
      },
      "source": [
        "## Modules"
      ]
    },
    {
      "cell_type": "markdown",
      "metadata": {
        "id": "WEYFrIZtqEj1"
      },
      "source": [
        "Most of the functionality in Python is provided by *modules*. The Python Standard Library is a large collection of modules that provides *cross-platform* implementations of common facilities such as access to the operating system, file I/O, string management, network communication, and much more."
      ]
    },
    {
      "cell_type": "markdown",
      "metadata": {
        "id": "ydAWghl1qEj2"
      },
      "source": [
        "### References"
      ]
    },
    {
      "cell_type": "markdown",
      "metadata": {
        "id": "W_JGsHlGqEj2"
      },
      "source": [
        " * The Python Language Reference: http://docs.python.org/2/reference/index.html\n",
        " * The Python Standard Library: http://docs.python.org/2/library/\n",
        "\n",
        "To use a module in a Python program it first has to be imported. A module can be imported using the `import` statement. For example, to import the module `math`, which contains many standard mathematical functions, we can do:"
      ]
    },
    {
      "cell_type": "code",
      "execution_count": 1,
      "metadata": {
        "id": "SqnsWZzDqEj2"
      },
      "outputs": [],
      "source": [
        "import math"
      ]
    },
    {
      "cell_type": "markdown",
      "metadata": {
        "id": "0vO0nb5mqEj4"
      },
      "source": [
        "This includes the whole module and makes it available for use later in the program. For example, we can do:"
      ]
    },
    {
      "cell_type": "code",
      "execution_count": 2,
      "metadata": {
        "colab": {
          "base_uri": "https://localhost:8080/"
        },
        "id": "pa_C7-ekqEj4",
        "outputId": "f459d658-be11-49d0-d6dc-6a45c824f0fa"
      },
      "outputs": [
        {
          "output_type": "stream",
          "name": "stdout",
          "text": [
            "1.0\n"
          ]
        }
      ],
      "source": [
        "import math\n",
        "\n",
        "x = math.cos(2 * math.pi)\n",
        "\n",
        "print(x)"
      ]
    },
    {
      "cell_type": "markdown",
      "metadata": {
        "id": "rIxaZW5xqEj5"
      },
      "source": [
        "Alternatively, we can chose to import all symbols (functions and variables) in a module to the current namespace (so that we don't need to use the prefix \"`math.`\" every time we use something from the `math` module:"
      ]
    },
    {
      "cell_type": "code",
      "execution_count": 3,
      "metadata": {
        "colab": {
          "base_uri": "https://localhost:8080/"
        },
        "id": "B70iFPs5qEj6",
        "outputId": "8e3b1cc6-89a0-4487-e460-9529a8d0ff37"
      },
      "outputs": [
        {
          "output_type": "stream",
          "name": "stdout",
          "text": [
            "1.0\n"
          ]
        }
      ],
      "source": [
        "from math import *\n",
        "\n",
        "x = cos(2 * pi)\n",
        "\n",
        "print(x)"
      ]
    },
    {
      "cell_type": "markdown",
      "metadata": {
        "id": "RsQdmFRFqEj6"
      },
      "source": [
        "This pattern can be very convenient, but in large programs that include many modules it is often a good idea to keep the symbols from each module in their own namespaces, by using the `import math` pattern. This would elminate potentially confusing problems with name space collisions.\n",
        "\n",
        "As a third alternative, we can chose to import only a few selected symbols from a module by explicitly listing which ones we want to import instead of using the wildcard character `*`:"
      ]
    },
    {
      "cell_type": "code",
      "execution_count": 4,
      "metadata": {
        "colab": {
          "base_uri": "https://localhost:8080/"
        },
        "id": "nP1cFgt0qEj6",
        "outputId": "4a44e105-c8c5-40a9-dca0-fbaa3835c9fa"
      },
      "outputs": [
        {
          "output_type": "stream",
          "name": "stdout",
          "text": [
            "1.0\n"
          ]
        }
      ],
      "source": [
        "from math import cos, pi\n",
        "\n",
        "x = cos(2 * pi)\n",
        "\n",
        "print(x)"
      ]
    },
    {
      "cell_type": "markdown",
      "metadata": {
        "id": "ClCPSl1XqEj6"
      },
      "source": [
        "### Looking at what a module contains, and its documentation"
      ]
    },
    {
      "cell_type": "markdown",
      "metadata": {
        "id": "pRxYMlbcqEj6"
      },
      "source": [
        "Once a module is imported, we can list the symbols it provides using the `dir` function:"
      ]
    },
    {
      "cell_type": "code",
      "execution_count": 5,
      "metadata": {
        "colab": {
          "base_uri": "https://localhost:8080/"
        },
        "id": "mhOsFgnsqEj7",
        "outputId": "3ef7af7f-0492-434d-d851-f7610c3da315"
      },
      "outputs": [
        {
          "output_type": "stream",
          "name": "stdout",
          "text": [
            "['__doc__', '__loader__', '__name__', '__package__', '__spec__', 'acos', 'acosh', 'asin', 'asinh', 'atan', 'atan2', 'atanh', 'ceil', 'comb', 'copysign', 'cos', 'cosh', 'degrees', 'dist', 'e', 'erf', 'erfc', 'exp', 'expm1', 'fabs', 'factorial', 'floor', 'fmod', 'frexp', 'fsum', 'gamma', 'gcd', 'hypot', 'inf', 'isclose', 'isfinite', 'isinf', 'isnan', 'isqrt', 'lcm', 'ldexp', 'lgamma', 'log', 'log10', 'log1p', 'log2', 'modf', 'nan', 'nextafter', 'perm', 'pi', 'pow', 'prod', 'radians', 'remainder', 'sin', 'sinh', 'sqrt', 'tan', 'tanh', 'tau', 'trunc', 'ulp']\n"
          ]
        }
      ],
      "source": [
        "import math\n",
        "\n",
        "print(dir(math))"
      ]
    },
    {
      "cell_type": "markdown",
      "metadata": {
        "id": "bj9tFf7qqEj7"
      },
      "source": [
        "And using the function `help` we can get a description of each function (almost .. not all functions have docstrings, as they are technically called, but the vast majority of functions are documented this way)."
      ]
    },
    {
      "cell_type": "code",
      "execution_count": 6,
      "metadata": {
        "colab": {
          "base_uri": "https://localhost:8080/"
        },
        "id": "57xLRBvDqEj8",
        "outputId": "ba43b5e7-5477-4f3c-b97d-13260be0791f"
      },
      "outputs": [
        {
          "output_type": "stream",
          "name": "stdout",
          "text": [
            "Help on built-in function log in module math:\n",
            "\n",
            "log(...)\n",
            "    log(x, [base=math.e])\n",
            "    Return the logarithm of x to the given base.\n",
            "    \n",
            "    If the base not specified, returns the natural logarithm (base e) of x.\n",
            "\n"
          ]
        }
      ],
      "source": [
        "help(math.log)"
      ]
    },
    {
      "cell_type": "code",
      "execution_count": 7,
      "metadata": {
        "colab": {
          "base_uri": "https://localhost:8080/"
        },
        "id": "hfq9k1U9qEj8",
        "outputId": "10712658-c2b3-4453-dc50-329ae9ba4097"
      },
      "outputs": [
        {
          "output_type": "execute_result",
          "data": {
            "text/plain": [
              "2.302585092994046"
            ]
          },
          "metadata": {},
          "execution_count": 7
        }
      ],
      "source": [
        "log(10)"
      ]
    },
    {
      "cell_type": "code",
      "execution_count": 8,
      "metadata": {
        "colab": {
          "base_uri": "https://localhost:8080/"
        },
        "id": "X_MJymF4qEj8",
        "outputId": "0b48834a-ab47-4f43-98f4-014964b21484"
      },
      "outputs": [
        {
          "output_type": "execute_result",
          "data": {
            "text/plain": [
              "3.3219280948873626"
            ]
          },
          "metadata": {},
          "execution_count": 8
        }
      ],
      "source": [
        "log(10, 2)"
      ]
    },
    {
      "cell_type": "markdown",
      "metadata": {
        "id": "7r247JQxqEj9"
      },
      "source": [
        "We can also use the `help` function directly on modules: Try\n",
        "\n",
        "    help(math)\n",
        "\n",
        "Some very useful modules form the Python standard library are `os`, `sys`, `math`, `shutil`, `re`, `subprocess`, `multiprocessing`.\n",
        "\n",
        "A complete lists of standard modules for Python 2 and Python 3 are available at http://docs.python.org/2/library/ and http://docs.python.org/3/library/, respectively."
      ]
    },
    {
      "cell_type": "markdown",
      "metadata": {
        "id": "xHmSIOiUqEj9"
      },
      "source": [
        "## Variables and types"
      ]
    },
    {
      "cell_type": "markdown",
      "metadata": {
        "id": "bQCuygujqEj9"
      },
      "source": [
        "### Symbol names"
      ]
    },
    {
      "cell_type": "markdown",
      "metadata": {
        "id": "TFBQSrSlqEj9"
      },
      "source": [
        "Variable names in Python can contain alphanumerical characters `a-z`, `A-Z`, `0-9` and some special characters such as `_`. Normal variable names must start with a letter.\n",
        "\n",
        "By convention, variable names start with a lower-case letter, and Class names start with a capital letter.\n",
        "\n",
        "In addition, there are a number of Python keywords that cannot be used as variable names. These keywords are:\n",
        "\n",
        "    and, as, assert, break, class, continue, def, del, elif, else, except,\n",
        "    exec, finally, for, from, global, if, import, in, is, lambda, not, or,\n",
        "    pass, print, raise, return, try, while, with, yield\n",
        "\n",
        "Note: Be aware of the keyword `lambda`, which could easily be a natural variable name in a scientific program. But being a keyword, it cannot be used as a variable name."
      ]
    },
    {
      "cell_type": "markdown",
      "metadata": {
        "id": "058hpAXLqEj9"
      },
      "source": [
        "### Assignment"
      ]
    },
    {
      "cell_type": "markdown",
      "metadata": {
        "id": "Mp59vzKgqEj9"
      },
      "source": [
        "\n",
        "\n",
        "The assignment operator in Python is `=`. Python is a dynamically typed language, so we do not need to specify the type of a variable when we create one.\n",
        "\n",
        "Assigning a value to a new variable creates the variable:"
      ]
    },
    {
      "cell_type": "code",
      "execution_count": 9,
      "metadata": {
        "id": "3PtvHu-JqEj-"
      },
      "outputs": [],
      "source": [
        "# variable assignments\n",
        "x = 1.0\n",
        "my_variable = 12.2"
      ]
    },
    {
      "cell_type": "markdown",
      "metadata": {
        "id": "sMNpc7eRqEj-"
      },
      "source": [
        "Although not explicitly specified, a variable does have a type associated with it. The type is derived from the value that was assigned to it."
      ]
    },
    {
      "cell_type": "code",
      "execution_count": 10,
      "metadata": {
        "colab": {
          "base_uri": "https://localhost:8080/"
        },
        "id": "8xq69qjoqEj-",
        "outputId": "24066159-ed7d-4c79-d7a1-7ddc10479e63"
      },
      "outputs": [
        {
          "output_type": "execute_result",
          "data": {
            "text/plain": [
              "float"
            ]
          },
          "metadata": {},
          "execution_count": 10
        }
      ],
      "source": [
        "type(x)"
      ]
    },
    {
      "cell_type": "markdown",
      "metadata": {
        "id": "Eo1Zr6HsqEj-"
      },
      "source": [
        "If we assign a new value to a variable, its type can change."
      ]
    },
    {
      "cell_type": "code",
      "execution_count": 11,
      "metadata": {
        "id": "q4kxnZjPqEj_"
      },
      "outputs": [],
      "source": [
        "x = 1"
      ]
    },
    {
      "cell_type": "code",
      "execution_count": 12,
      "metadata": {
        "colab": {
          "base_uri": "https://localhost:8080/"
        },
        "id": "GpjGffkrqEj_",
        "outputId": "52d345aa-6232-4bca-9641-d1351f42fd28"
      },
      "outputs": [
        {
          "output_type": "execute_result",
          "data": {
            "text/plain": [
              "int"
            ]
          },
          "metadata": {},
          "execution_count": 12
        }
      ],
      "source": [
        "type(x)"
      ]
    },
    {
      "cell_type": "markdown",
      "metadata": {
        "id": "APsR1sWWqEj_"
      },
      "source": [
        "If we try to use a variable that has not yet been defined we get an `NameError`:"
      ]
    },
    {
      "cell_type": "code",
      "execution_count": 13,
      "metadata": {
        "colab": {
          "base_uri": "https://localhost:8080/",
          "height": 175
        },
        "id": "YfUJ7g7lqEj_",
        "outputId": "12cb79ce-3edc-42cc-837c-875eaec2cada"
      },
      "outputs": [
        {
          "output_type": "error",
          "ename": "NameError",
          "evalue": "name 'y' is not defined",
          "traceback": [
            "\u001b[0;31m---------------------------------------------------------------------------\u001b[0m",
            "\u001b[0;31mNameError\u001b[0m                                 Traceback (most recent call last)",
            "\u001b[0;32m<ipython-input-13-d9183e048de3>\u001b[0m in \u001b[0;36m<cell line: 1>\u001b[0;34m()\u001b[0m\n\u001b[0;32m----> 1\u001b[0;31m \u001b[0mprint\u001b[0m\u001b[0;34m(\u001b[0m\u001b[0my\u001b[0m\u001b[0;34m)\u001b[0m\u001b[0;34m\u001b[0m\u001b[0;34m\u001b[0m\u001b[0m\n\u001b[0m",
            "\u001b[0;31mNameError\u001b[0m: name 'y' is not defined"
          ]
        }
      ],
      "source": [
        "print(y)"
      ]
    },
    {
      "cell_type": "markdown",
      "metadata": {
        "id": "s-2dVKzgqEj_"
      },
      "source": [
        "### Fundamental types"
      ]
    },
    {
      "cell_type": "code",
      "execution_count": 14,
      "metadata": {
        "colab": {
          "base_uri": "https://localhost:8080/"
        },
        "id": "NzrKHxT-qEkM",
        "outputId": "6fcdf403-579a-4f2a-994a-de9d59962a57"
      },
      "outputs": [
        {
          "output_type": "execute_result",
          "data": {
            "text/plain": [
              "int"
            ]
          },
          "metadata": {},
          "execution_count": 14
        }
      ],
      "source": [
        "# integers\n",
        "x = 1\n",
        "type(x)"
      ]
    },
    {
      "cell_type": "code",
      "execution_count": 15,
      "metadata": {
        "colab": {
          "base_uri": "https://localhost:8080/"
        },
        "id": "rfzueU0bqEkM",
        "outputId": "9b237791-bf9d-4c5e-ec1c-e0077e0be282"
      },
      "outputs": [
        {
          "output_type": "execute_result",
          "data": {
            "text/plain": [
              "float"
            ]
          },
          "metadata": {},
          "execution_count": 15
        }
      ],
      "source": [
        "# float\n",
        "x = 1.0\n",
        "type(x)"
      ]
    },
    {
      "cell_type": "code",
      "execution_count": 16,
      "metadata": {
        "colab": {
          "base_uri": "https://localhost:8080/"
        },
        "id": "-0Mfx7vsqEkM",
        "outputId": "9f609446-7264-4b19-c548-758cea95e240"
      },
      "outputs": [
        {
          "output_type": "execute_result",
          "data": {
            "text/plain": [
              "bool"
            ]
          },
          "metadata": {},
          "execution_count": 16
        }
      ],
      "source": [
        "# boolean\n",
        "b1 = True\n",
        "b2 = False\n",
        "\n",
        "type(b1)"
      ]
    },
    {
      "cell_type": "markdown",
      "metadata": {
        "id": "zkqk-V52qEkM"
      },
      "source": [
        "### Type casting"
      ]
    },
    {
      "cell_type": "code",
      "execution_count": 17,
      "metadata": {
        "colab": {
          "base_uri": "https://localhost:8080/"
        },
        "id": "0rWbza83qEkM",
        "outputId": "e932bf38-10a1-4c9a-bf34-c367d1e8a7cb"
      },
      "outputs": [
        {
          "output_type": "stream",
          "name": "stdout",
          "text": [
            "1.5 <class 'float'>\n"
          ]
        }
      ],
      "source": [
        "x = 1.5\n",
        "\n",
        "print(x, type(x))"
      ]
    },
    {
      "cell_type": "code",
      "execution_count": 18,
      "metadata": {
        "colab": {
          "base_uri": "https://localhost:8080/"
        },
        "id": "fkpGD_7eqEkN",
        "outputId": "4bd7ec8e-468b-49d9-c88c-49d11246b6b9"
      },
      "outputs": [
        {
          "output_type": "stream",
          "name": "stdout",
          "text": [
            "1 <class 'int'>\n"
          ]
        }
      ],
      "source": [
        "x = int(x)\n",
        "\n",
        "print(x, type(x))"
      ]
    },
    {
      "cell_type": "markdown",
      "metadata": {
        "id": "WA_nEf52qEkN"
      },
      "source": [
        "## Operators and comparisons"
      ]
    },
    {
      "cell_type": "markdown",
      "metadata": {
        "id": "qooW64cAqEkN"
      },
      "source": [
        "Most operators and comparisons in Python work as one would expect:\n",
        "\n",
        "* Arithmetic operators `+`, `-`, `*`, `/`, `//` (integer division), `**` (power)\n"
      ]
    },
    {
      "cell_type": "code",
      "execution_count": 22,
      "metadata": {
        "colab": {
          "base_uri": "https://localhost:8080/"
        },
        "id": "2PajSJQDqEkN",
        "outputId": "c4d9b909-ab82-4e47-e26c-d521e6f3c55c"
      },
      "outputs": [
        {
          "output_type": "execute_result",
          "data": {
            "text/plain": [
              "(3, -1, 2, 1)"
            ]
          },
          "metadata": {},
          "execution_count": 22
        }
      ],
      "source": [
        "1 + 2, 1 - 2, 1 * 2, 3 // 2"
      ]
    },
    {
      "cell_type": "code",
      "execution_count": 20,
      "metadata": {
        "colab": {
          "base_uri": "https://localhost:8080/"
        },
        "id": "HzgBof7eqEkO",
        "outputId": "bb6820ed-5d8a-4db1-dda7-fe8de82fc33e"
      },
      "outputs": [
        {
          "output_type": "execute_result",
          "data": {
            "text/plain": [
              "(3.0, -1.0, 2.0, 0.5)"
            ]
          },
          "metadata": {},
          "execution_count": 20
        }
      ],
      "source": [
        "1.0 + 2.0, 1.0 - 2.0, 1.0 * 2.0, 1.0 / 2.0"
      ]
    },
    {
      "cell_type": "code",
      "execution_count": 23,
      "metadata": {
        "colab": {
          "base_uri": "https://localhost:8080/"
        },
        "id": "I0_lZm6bqEkO",
        "outputId": "bda6d67c-ea7a-465c-c49e-2e2491f0a9d1"
      },
      "outputs": [
        {
          "output_type": "execute_result",
          "data": {
            "text/plain": [
              "1.0"
            ]
          },
          "metadata": {},
          "execution_count": 23
        }
      ],
      "source": [
        "# Integer division of float numbers\n",
        "3.0 // 2.0"
      ]
    },
    {
      "cell_type": "code",
      "execution_count": 24,
      "metadata": {
        "colab": {
          "base_uri": "https://localhost:8080/"
        },
        "id": "BLQ31mwTqEkO",
        "outputId": "6d0c99fd-6110-4684-918b-51056c073e0d"
      },
      "outputs": [
        {
          "output_type": "execute_result",
          "data": {
            "text/plain": [
              "4"
            ]
          },
          "metadata": {},
          "execution_count": 24
        }
      ],
      "source": [
        "# Note! The power operators in python isn't ^, but **\n",
        "2 ** 2"
      ]
    },
    {
      "cell_type": "markdown",
      "metadata": {
        "id": "j_18KSvpqEkO"
      },
      "source": [
        "Note: The `/` operator always performs a floating point division in Python 3.x.\n",
        "This is not true in Python 2.x, where the result of `/` is always an integer if the operands are integers.\n",
        "to be more specific, `1/2 = 0.5` (`float`) in Python 3.x, and `1/2 = 0` (`int`) in Python 2.x (but `1.0/2 = 0.5` in Python 2.x)."
      ]
    },
    {
      "cell_type": "markdown",
      "metadata": {
        "id": "7cP7u12MqEkO"
      },
      "source": [
        "* The boolean operators are spelled out as the words `and`, `not`, `or`."
      ]
    },
    {
      "cell_type": "code",
      "execution_count": 25,
      "metadata": {
        "colab": {
          "base_uri": "https://localhost:8080/"
        },
        "id": "UfJIXAuCqEkP",
        "outputId": "df9b4086-3a2b-479e-c946-4d5de8a2f75b"
      },
      "outputs": [
        {
          "output_type": "execute_result",
          "data": {
            "text/plain": [
              "False"
            ]
          },
          "metadata": {},
          "execution_count": 25
        }
      ],
      "source": [
        "True and False"
      ]
    },
    {
      "cell_type": "code",
      "execution_count": 26,
      "metadata": {
        "colab": {
          "base_uri": "https://localhost:8080/"
        },
        "id": "dhDWPMVWqEkP",
        "outputId": "f9473ff6-af95-41d1-8e59-8d7fa47b1c5a"
      },
      "outputs": [
        {
          "output_type": "execute_result",
          "data": {
            "text/plain": [
              "True"
            ]
          },
          "metadata": {},
          "execution_count": 26
        }
      ],
      "source": [
        "not False"
      ]
    },
    {
      "cell_type": "code",
      "execution_count": 27,
      "metadata": {
        "colab": {
          "base_uri": "https://localhost:8080/"
        },
        "id": "Yu_UKPgwqEkP",
        "outputId": "53665d70-be89-4797-fe8c-2d022c47d8e5"
      },
      "outputs": [
        {
          "output_type": "execute_result",
          "data": {
            "text/plain": [
              "True"
            ]
          },
          "metadata": {},
          "execution_count": 27
        }
      ],
      "source": [
        "True or False"
      ]
    },
    {
      "cell_type": "markdown",
      "metadata": {
        "id": "z6KgwyJmqEkP"
      },
      "source": [
        "* Comparison operators `>`, `<`, `>=` (greater or equal), `<=` (less or equal), `==` equality, `is` identical."
      ]
    },
    {
      "cell_type": "code",
      "execution_count": 28,
      "metadata": {
        "colab": {
          "base_uri": "https://localhost:8080/"
        },
        "id": "CmFXvpxHqEkP",
        "outputId": "cb345b6e-5abd-4223-8e10-dfa0f2519fe7"
      },
      "outputs": [
        {
          "output_type": "execute_result",
          "data": {
            "text/plain": [
              "(True, False)"
            ]
          },
          "metadata": {},
          "execution_count": 28
        }
      ],
      "source": [
        "2 > 1, 2 < 1"
      ]
    },
    {
      "cell_type": "code",
      "execution_count": 29,
      "metadata": {
        "colab": {
          "base_uri": "https://localhost:8080/"
        },
        "id": "3QOC_B7SqEkQ",
        "outputId": "f77ca167-3514-4633-e675-d3f43035a598"
      },
      "outputs": [
        {
          "output_type": "execute_result",
          "data": {
            "text/plain": [
              "(False, False)"
            ]
          },
          "metadata": {},
          "execution_count": 29
        }
      ],
      "source": [
        "2 > 2, 2 < 2"
      ]
    },
    {
      "cell_type": "code",
      "execution_count": 30,
      "metadata": {
        "colab": {
          "base_uri": "https://localhost:8080/"
        },
        "id": "71N1hF3cqEkQ",
        "outputId": "831cac33-dc45-44ed-ada3-4395896bde9b"
      },
      "outputs": [
        {
          "output_type": "execute_result",
          "data": {
            "text/plain": [
              "(True, True)"
            ]
          },
          "metadata": {},
          "execution_count": 30
        }
      ],
      "source": [
        "2 >= 2, 2 <= 2"
      ]
    },
    {
      "cell_type": "code",
      "execution_count": 31,
      "metadata": {
        "colab": {
          "base_uri": "https://localhost:8080/"
        },
        "id": "ktJEJWd3qEkQ",
        "outputId": "691f39c2-91f6-4c94-e115-71a9718e7b1a"
      },
      "outputs": [
        {
          "output_type": "execute_result",
          "data": {
            "text/plain": [
              "True"
            ]
          },
          "metadata": {},
          "execution_count": 31
        }
      ],
      "source": [
        "# equality\n",
        "[1,2] == [1,2]"
      ]
    },
    {
      "cell_type": "code",
      "execution_count": 32,
      "metadata": {
        "colab": {
          "base_uri": "https://localhost:8080/"
        },
        "id": "LX37s4cRqEkQ",
        "outputId": "b49c279c-ed38-4541-b5b9-2d16a1de1a15"
      },
      "outputs": [
        {
          "output_type": "execute_result",
          "data": {
            "text/plain": [
              "True"
            ]
          },
          "metadata": {},
          "execution_count": 32
        }
      ],
      "source": [
        "# objects identical?\n",
        "l1 = l2 = [1,2]\n",
        "\n",
        "l1 is l2"
      ]
    },
    {
      "cell_type": "markdown",
      "metadata": {
        "id": "glhcTFEaqEkQ"
      },
      "source": [
        "## Compound types: Strings, List and dictionaries"
      ]
    },
    {
      "cell_type": "markdown",
      "metadata": {
        "id": "zciceoBhqEkQ"
      },
      "source": [
        "### Strings"
      ]
    },
    {
      "cell_type": "markdown",
      "metadata": {
        "id": "tF4u6lB6qEkQ"
      },
      "source": [
        "Strings are the variable type that is used for storing text messages."
      ]
    },
    {
      "cell_type": "code",
      "execution_count": 33,
      "metadata": {
        "colab": {
          "base_uri": "https://localhost:8080/"
        },
        "id": "Bayg868SqEkQ",
        "outputId": "e7fbac8a-2a05-4aad-e252-366ec98e4734"
      },
      "outputs": [
        {
          "output_type": "execute_result",
          "data": {
            "text/plain": [
              "str"
            ]
          },
          "metadata": {},
          "execution_count": 33
        }
      ],
      "source": [
        "s = \"Hello world\"\n",
        "type(s)"
      ]
    },
    {
      "cell_type": "code",
      "execution_count": 34,
      "metadata": {
        "colab": {
          "base_uri": "https://localhost:8080/"
        },
        "id": "aWdz60uNqEkR",
        "outputId": "3db74d5b-bf3c-473e-8720-7f1e4444b59b"
      },
      "outputs": [
        {
          "output_type": "execute_result",
          "data": {
            "text/plain": [
              "11"
            ]
          },
          "metadata": {},
          "execution_count": 34
        }
      ],
      "source": [
        "# length of the string: the number of characters\n",
        "len(s)"
      ]
    },
    {
      "cell_type": "code",
      "execution_count": 35,
      "metadata": {
        "colab": {
          "base_uri": "https://localhost:8080/"
        },
        "id": "56Ijrw7sqEkR",
        "outputId": "e88b9162-1ce3-493e-e403-3205c2599f1a"
      },
      "outputs": [
        {
          "output_type": "stream",
          "name": "stdout",
          "text": [
            "Hello test\n"
          ]
        }
      ],
      "source": [
        "# replace a substring in a string with something else\n",
        "s2 = s.replace(\"world\", \"test\")\n",
        "print(s2)"
      ]
    },
    {
      "cell_type": "markdown",
      "metadata": {
        "id": "Dek44pUsqEkR"
      },
      "source": [
        "We can index a character in a string using `[]`:"
      ]
    },
    {
      "cell_type": "code",
      "execution_count": 36,
      "metadata": {
        "colab": {
          "base_uri": "https://localhost:8080/",
          "height": 35
        },
        "id": "aEuaRCJOqEkR",
        "outputId": "cbb67b98-9fdc-4961-e40f-dca74feaf8b8"
      },
      "outputs": [
        {
          "output_type": "execute_result",
          "data": {
            "text/plain": [
              "'H'"
            ],
            "application/vnd.google.colaboratory.intrinsic+json": {
              "type": "string"
            }
          },
          "metadata": {},
          "execution_count": 36
        }
      ],
      "source": [
        "s[0]"
      ]
    },
    {
      "cell_type": "markdown",
      "metadata": {
        "id": "WtM5SG6CqEkR"
      },
      "source": [
        "**Heads up MATLAB users:** Indexing start at 0!\n",
        "\n",
        "We can extract a part of a string using the syntax `[start:stop]`, which extracts characters between index `start` and `stop` -1 (the character at index `stop` is not included):"
      ]
    },
    {
      "cell_type": "code",
      "execution_count": null,
      "metadata": {
        "id": "V8sOTApyqEkR"
      },
      "outputs": [],
      "source": [
        "s[0:5]"
      ]
    },
    {
      "cell_type": "code",
      "execution_count": 38,
      "metadata": {
        "colab": {
          "base_uri": "https://localhost:8080/",
          "height": 35
        },
        "id": "Wygbz4rTqEkR",
        "outputId": "d9762e9b-dc01-4761-abb5-37f2e13327d8"
      },
      "outputs": [
        {
          "output_type": "execute_result",
          "data": {
            "text/plain": [
              "'o'"
            ],
            "application/vnd.google.colaboratory.intrinsic+json": {
              "type": "string"
            }
          },
          "metadata": {},
          "execution_count": 38
        }
      ],
      "source": [
        "s[4:5]"
      ]
    },
    {
      "cell_type": "markdown",
      "metadata": {
        "id": "S95J-am3qEkS"
      },
      "source": [
        "If we omit either (or both) of `start` or `stop` from `[start:stop]`, the default is the beginning and the end of the string, respectively:"
      ]
    },
    {
      "cell_type": "code",
      "execution_count": 39,
      "metadata": {
        "colab": {
          "base_uri": "https://localhost:8080/",
          "height": 35
        },
        "id": "RWbB-KZnqEkS",
        "outputId": "fe66d561-b7c1-4584-ed04-0baa9b3edbd8"
      },
      "outputs": [
        {
          "output_type": "execute_result",
          "data": {
            "text/plain": [
              "'Hello'"
            ],
            "application/vnd.google.colaboratory.intrinsic+json": {
              "type": "string"
            }
          },
          "metadata": {},
          "execution_count": 39
        }
      ],
      "source": [
        "s[:5]"
      ]
    },
    {
      "cell_type": "code",
      "execution_count": 40,
      "metadata": {
        "colab": {
          "base_uri": "https://localhost:8080/",
          "height": 35
        },
        "id": "Fd4RFKvZqEkS",
        "outputId": "3ab98b47-b72d-4863-98ee-0b5999d11979"
      },
      "outputs": [
        {
          "output_type": "execute_result",
          "data": {
            "text/plain": [
              "'world'"
            ],
            "application/vnd.google.colaboratory.intrinsic+json": {
              "type": "string"
            }
          },
          "metadata": {},
          "execution_count": 40
        }
      ],
      "source": [
        "s[6:]"
      ]
    },
    {
      "cell_type": "code",
      "execution_count": 41,
      "metadata": {
        "colab": {
          "base_uri": "https://localhost:8080/",
          "height": 35
        },
        "id": "4-iDWHG8qEkS",
        "outputId": "03aa659f-d0eb-4d3b-a41a-87e20454709c"
      },
      "outputs": [
        {
          "output_type": "execute_result",
          "data": {
            "text/plain": [
              "'Hello world'"
            ],
            "application/vnd.google.colaboratory.intrinsic+json": {
              "type": "string"
            }
          },
          "metadata": {},
          "execution_count": 41
        }
      ],
      "source": [
        "s[:]"
      ]
    },
    {
      "cell_type": "markdown",
      "metadata": {
        "id": "pRKEhaR-qEkS"
      },
      "source": [
        "We can also define the step size using the syntax `[start:end:step]` (the default value for `step` is 1, as we saw above):"
      ]
    },
    {
      "cell_type": "code",
      "execution_count": 42,
      "metadata": {
        "colab": {
          "base_uri": "https://localhost:8080/",
          "height": 35
        },
        "id": "hRn2jg7VqEkS",
        "outputId": "07dc1f3f-a71b-47e4-88b9-11f978289cc3"
      },
      "outputs": [
        {
          "output_type": "execute_result",
          "data": {
            "text/plain": [
              "'Hello world'"
            ],
            "application/vnd.google.colaboratory.intrinsic+json": {
              "type": "string"
            }
          },
          "metadata": {},
          "execution_count": 42
        }
      ],
      "source": [
        "s[::1]"
      ]
    },
    {
      "cell_type": "code",
      "execution_count": 43,
      "metadata": {
        "colab": {
          "base_uri": "https://localhost:8080/",
          "height": 35
        },
        "id": "Jw2FOBCCqEkT",
        "outputId": "2d789415-15ab-4491-8fee-b992c77de206"
      },
      "outputs": [
        {
          "output_type": "execute_result",
          "data": {
            "text/plain": [
              "'Hlowrd'"
            ],
            "application/vnd.google.colaboratory.intrinsic+json": {
              "type": "string"
            }
          },
          "metadata": {},
          "execution_count": 43
        }
      ],
      "source": [
        "s[::2]"
      ]
    },
    {
      "cell_type": "markdown",
      "metadata": {
        "id": "W2p05V6iqEkT"
      },
      "source": [
        "This technique is called *slicing*. Read more about the syntax here: http://docs.python.org/release/2.7.3/library/functions.html?highlight=slice#slice"
      ]
    },
    {
      "cell_type": "markdown",
      "metadata": {
        "id": "bzFaMARHqEkT"
      },
      "source": [
        "Python has a very rich set of functions for text processing. See for example http://docs.python.org/2/library/string.html for more information."
      ]
    },
    {
      "cell_type": "markdown",
      "metadata": {
        "id": "w-RiwdKOqEkT"
      },
      "source": [
        "#### String formatting examples"
      ]
    },
    {
      "cell_type": "code",
      "execution_count": 44,
      "metadata": {
        "colab": {
          "base_uri": "https://localhost:8080/"
        },
        "id": "r4zdryprqEkT",
        "outputId": "743d2b50-bf33-4091-835f-7e00dfcdbe4d"
      },
      "outputs": [
        {
          "output_type": "stream",
          "name": "stdout",
          "text": [
            "str1 str2 str3\n"
          ]
        }
      ],
      "source": [
        "print(\"str1\", \"str2\", \"str3\")  # The print statement concatenates strings with a space"
      ]
    },
    {
      "cell_type": "code",
      "execution_count": 45,
      "metadata": {
        "colab": {
          "base_uri": "https://localhost:8080/"
        },
        "id": "cFdZKtYAqEkU",
        "outputId": "8d097366-fc46-4661-b154-45a9ab296ce3"
      },
      "outputs": [
        {
          "output_type": "stream",
          "name": "stdout",
          "text": [
            "str1 1.0 False (-0-1j)\n"
          ]
        }
      ],
      "source": [
        "print(\"str1\", 1.0, False, -1j)  # The print statements converts all arguments to strings"
      ]
    },
    {
      "cell_type": "code",
      "execution_count": null,
      "metadata": {
        "id": "vAq8Vu_YqEkU"
      },
      "outputs": [],
      "source": [
        "print(\"str1\" + \"str2\" + \"str3\") # strings added with + are concatenated without space"
      ]
    },
    {
      "cell_type": "code",
      "execution_count": null,
      "metadata": {
        "id": "tdbgZwluqEkU"
      },
      "outputs": [],
      "source": [
        "print(\"value = %f\" % 1.0)       # we can use C-style string formatting"
      ]
    },
    {
      "cell_type": "code",
      "execution_count": null,
      "metadata": {
        "id": "7jytALsHqEkU"
      },
      "outputs": [],
      "source": [
        "# this formatting creates a string\n",
        "s2 = \"value1 = %.2f. value2 = %d\" % (3.1415, 1.5)\n",
        "\n",
        "print(s2)"
      ]
    },
    {
      "cell_type": "code",
      "execution_count": null,
      "metadata": {
        "id": "CGxEJZc8qEkU"
      },
      "outputs": [],
      "source": [
        "# alternative, more intuitive way of formatting a string\n",
        "s3 = 'value1 = {0}, value2 = {1}'.format(3.1415, 1.5)\n",
        "\n",
        "print(s3)"
      ]
    },
    {
      "cell_type": "markdown",
      "metadata": {
        "id": "SdOIuUFeqEkU"
      },
      "source": [
        "### List"
      ]
    },
    {
      "cell_type": "markdown",
      "metadata": {
        "id": "v6PvVaMAqEkU"
      },
      "source": [
        "Lists are very similar to strings, except that each element can be of any type.\n",
        "\n",
        "The syntax for creating lists in Python is `[...]`:"
      ]
    },
    {
      "cell_type": "code",
      "execution_count": 46,
      "metadata": {
        "colab": {
          "base_uri": "https://localhost:8080/"
        },
        "id": "TpAe4HLOqEkV",
        "outputId": "d3cb1418-e0f3-47bd-f7c5-dfdb1d817441"
      },
      "outputs": [
        {
          "output_type": "stream",
          "name": "stdout",
          "text": [
            "<class 'list'>\n",
            "[1, 2, 3, 4]\n"
          ]
        }
      ],
      "source": [
        "l = [1,2,3,4]\n",
        "\n",
        "print(type(l))\n",
        "print(l)"
      ]
    },
    {
      "cell_type": "markdown",
      "metadata": {
        "id": "NbHohehCqEkV"
      },
      "source": [
        "We can use the same slicing techniques to manipulate lists as we could use on strings:"
      ]
    },
    {
      "cell_type": "code",
      "execution_count": 47,
      "metadata": {
        "colab": {
          "base_uri": "https://localhost:8080/"
        },
        "id": "WaVEc81EqEkV",
        "outputId": "68ad5d0c-7028-44b3-8b10-dc3de89d4d16"
      },
      "outputs": [
        {
          "output_type": "stream",
          "name": "stdout",
          "text": [
            "[1, 2, 3, 4]\n",
            "[2, 3]\n",
            "[1, 3]\n"
          ]
        }
      ],
      "source": [
        "print(l)\n",
        "\n",
        "print(l[1:3])\n",
        "\n",
        "print(l[::2])"
      ]
    },
    {
      "cell_type": "markdown",
      "metadata": {
        "id": "x-LWbnHBqEkV"
      },
      "source": [
        "**Heads up MATLAB users:** Indexing starts at 0!"
      ]
    },
    {
      "cell_type": "code",
      "execution_count": 48,
      "metadata": {
        "colab": {
          "base_uri": "https://localhost:8080/"
        },
        "id": "g68lmg2PqEkV",
        "outputId": "c5fe5570-cd8f-4f40-8d99-f439a82b2a5c"
      },
      "outputs": [
        {
          "output_type": "execute_result",
          "data": {
            "text/plain": [
              "1"
            ]
          },
          "metadata": {},
          "execution_count": 48
        }
      ],
      "source": [
        "l[0]"
      ]
    },
    {
      "cell_type": "markdown",
      "metadata": {
        "id": "nkbGN2iEqEkV"
      },
      "source": [
        "Elements in a list do not all have to be of the same type:"
      ]
    },
    {
      "cell_type": "code",
      "execution_count": 49,
      "metadata": {
        "colab": {
          "base_uri": "https://localhost:8080/"
        },
        "id": "VRCxedvNqEkV",
        "outputId": "78a4c6aa-bc63-46f9-bff3-207787421886"
      },
      "outputs": [
        {
          "output_type": "stream",
          "name": "stdout",
          "text": [
            "[1, 'a', 1.0, (1-1j)]\n"
          ]
        }
      ],
      "source": [
        "l = [1, 'a', 1.0, 1-1j]\n",
        "\n",
        "print(l)"
      ]
    },
    {
      "cell_type": "markdown",
      "metadata": {
        "id": "IMl9dm7FqEkW"
      },
      "source": [
        "Python lists can be inhomogeneous and arbitrarily nested:"
      ]
    },
    {
      "cell_type": "code",
      "execution_count": 50,
      "metadata": {
        "colab": {
          "base_uri": "https://localhost:8080/"
        },
        "id": "RFBF3BBRqEkW",
        "outputId": "65afac92-1760-49f4-c7bc-6c906fed3308"
      },
      "outputs": [
        {
          "output_type": "execute_result",
          "data": {
            "text/plain": [
              "[1, [2, [3, [4, [5]]]]]"
            ]
          },
          "metadata": {},
          "execution_count": 50
        }
      ],
      "source": [
        "nested_list = [1, [2, [3, [4, [5]]]]]\n",
        "\n",
        "nested_list"
      ]
    },
    {
      "cell_type": "markdown",
      "metadata": {
        "id": "zaaR2rNbqEkW"
      },
      "source": [
        "Lists play a very important role in Python. For example they are used in loops and other flow control structures (discussed below). There are a number of convenient functions for generating lists of various types, for example the `range` function:"
      ]
    },
    {
      "cell_type": "code",
      "execution_count": 51,
      "metadata": {
        "colab": {
          "base_uri": "https://localhost:8080/"
        },
        "id": "2qxkjIEoqEkW",
        "outputId": "4c8b6a41-bb45-41d6-a471-74e568c193b2"
      },
      "outputs": [
        {
          "output_type": "execute_result",
          "data": {
            "text/plain": [
              "range(10, 30, 2)"
            ]
          },
          "metadata": {},
          "execution_count": 51
        }
      ],
      "source": [
        "start = 10\n",
        "stop = 30\n",
        "step = 2\n",
        "\n",
        "range(start, stop, step)"
      ]
    },
    {
      "cell_type": "code",
      "execution_count": 52,
      "metadata": {
        "colab": {
          "base_uri": "https://localhost:8080/"
        },
        "id": "T8Umc-ciqEkW",
        "outputId": "e7160cad-0049-49cc-a53e-66fe991feb81"
      },
      "outputs": [
        {
          "output_type": "execute_result",
          "data": {
            "text/plain": [
              "[10, 12, 14, 16, 18, 20, 22, 24, 26, 28]"
            ]
          },
          "metadata": {},
          "execution_count": 52
        }
      ],
      "source": [
        "# in python 3 range generates an interator, which can be converted to a list using 'list(...)'.\n",
        "# It has no effect in python 2\n",
        "list(range(start, stop, step))"
      ]
    },
    {
      "cell_type": "code",
      "execution_count": 53,
      "metadata": {
        "colab": {
          "base_uri": "https://localhost:8080/"
        },
        "id": "jeG8G5OwqEkW",
        "outputId": "ac1ea97a-ad75-4088-88fc-f6aa5edf2fab"
      },
      "outputs": [
        {
          "output_type": "execute_result",
          "data": {
            "text/plain": [
              "[-10, -9, -8, -7, -6, -5, -4, -3, -2, -1, 0, 1, 2, 3, 4, 5, 6, 7, 8, 9]"
            ]
          },
          "metadata": {},
          "execution_count": 53
        }
      ],
      "source": [
        "list(range(-10, 10))"
      ]
    },
    {
      "cell_type": "code",
      "execution_count": 54,
      "metadata": {
        "colab": {
          "base_uri": "https://localhost:8080/",
          "height": 35
        },
        "id": "kh6aiQhQqEkW",
        "outputId": "d6ad613f-2f7f-4d42-b7c9-db7a7f426b4e"
      },
      "outputs": [
        {
          "output_type": "execute_result",
          "data": {
            "text/plain": [
              "'Hello world'"
            ],
            "application/vnd.google.colaboratory.intrinsic+json": {
              "type": "string"
            }
          },
          "metadata": {},
          "execution_count": 54
        }
      ],
      "source": [
        "s"
      ]
    },
    {
      "cell_type": "code",
      "execution_count": 55,
      "metadata": {
        "colab": {
          "base_uri": "https://localhost:8080/"
        },
        "id": "awjpMkiEqEkW",
        "outputId": "95a3a3ec-17a3-4ba0-c92a-4dfc95166d6a"
      },
      "outputs": [
        {
          "output_type": "execute_result",
          "data": {
            "text/plain": [
              "['H', 'e', 'l', 'l', 'o', ' ', 'w', 'o', 'r', 'l', 'd']"
            ]
          },
          "metadata": {},
          "execution_count": 55
        }
      ],
      "source": [
        "# convert a string to a list by type casting:\n",
        "s2 = list(s)\n",
        "\n",
        "s2"
      ]
    },
    {
      "cell_type": "code",
      "execution_count": 56,
      "metadata": {
        "colab": {
          "base_uri": "https://localhost:8080/"
        },
        "id": "AMezN9M-qEkX",
        "outputId": "fbc6766e-dd58-4554-e1c4-20f6a50d0ae6"
      },
      "outputs": [
        {
          "output_type": "stream",
          "name": "stdout",
          "text": [
            "[' ', 'H', 'd', 'e', 'l', 'l', 'l', 'o', 'o', 'r', 'w']\n"
          ]
        }
      ],
      "source": [
        "# sorting lists\n",
        "s2.sort()\n",
        "\n",
        "print(s2)"
      ]
    },
    {
      "cell_type": "markdown",
      "metadata": {
        "id": "nkDYYKetqEkX"
      },
      "source": [
        "#### Adding, inserting, modifying, and removing elements from lists"
      ]
    },
    {
      "cell_type": "code",
      "execution_count": 67,
      "metadata": {
        "colab": {
          "base_uri": "https://localhost:8080/"
        },
        "id": "wbGUhHStqEkX",
        "outputId": "4e3875d0-1466-4987-f118-daf194c3d8b6"
      },
      "outputs": [
        {
          "output_type": "stream",
          "name": "stdout",
          "text": [
            "['A', 'd', 'd']\n"
          ]
        }
      ],
      "source": [
        "# create a new empty list\n",
        "l = []\n",
        "\n",
        "# add an elements using `append`\n",
        "l.append(\"A\")\n",
        "l.append(\"d\")\n",
        "l.append(\"d\")\n",
        "\n",
        "print(l)"
      ]
    },
    {
      "cell_type": "markdown",
      "metadata": {
        "id": "ZguO6cVGqEkX"
      },
      "source": [
        "We can modify lists by assigning new values to elements in the list. In technical jargon, lists are *mutable*."
      ]
    },
    {
      "cell_type": "code",
      "execution_count": 68,
      "metadata": {
        "colab": {
          "base_uri": "https://localhost:8080/"
        },
        "id": "OGpFRikmqEkX",
        "outputId": "90849d27-1226-4694-d45d-c4f4b8a1c96f"
      },
      "outputs": [
        {
          "output_type": "stream",
          "name": "stdout",
          "text": [
            "['A', 'p', 'p']\n"
          ]
        }
      ],
      "source": [
        "l[1] = \"p\"\n",
        "l[2] = \"p\"\n",
        "\n",
        "print(l)"
      ]
    },
    {
      "cell_type": "code",
      "execution_count": 69,
      "metadata": {
        "colab": {
          "base_uri": "https://localhost:8080/"
        },
        "id": "joWSBfryqEkY",
        "outputId": "8868e1b0-5265-4f8f-ce4c-320e1cf76656"
      },
      "outputs": [
        {
          "output_type": "stream",
          "name": "stdout",
          "text": [
            "['A', 'd', 'd']\n"
          ]
        }
      ],
      "source": [
        "l[1:3] = [\"d\", \"d\"]\n",
        "\n",
        "print(l)"
      ]
    },
    {
      "cell_type": "markdown",
      "metadata": {
        "id": "EuMzpKv2qEkY"
      },
      "source": [
        "Insert an element at an specific index using `insert`"
      ]
    },
    {
      "cell_type": "code",
      "execution_count": 73,
      "metadata": {
        "colab": {
          "base_uri": "https://localhost:8080/"
        },
        "id": "rMddfS2LqEkY",
        "outputId": "e967bd89-8022-489d-9f88-9f7260799d15"
      },
      "outputs": [
        {
          "output_type": "stream",
          "name": "stdout",
          "text": [
            "['i', 'n', 's', 'e', 'r', 't', 'i', 'n', 's', 'e', 'r', 't']\n"
          ]
        }
      ],
      "source": [
        "l.insert(0, \"i\")\n",
        "l.insert(1, \"n\")\n",
        "l.insert(2, \"s\")\n",
        "l.insert(3, \"e\")\n",
        "l.insert(4, \"r\")\n",
        "l.insert(5, \"t\")\n",
        "\n",
        "print(l)"
      ]
    },
    {
      "cell_type": "markdown",
      "metadata": {
        "id": "UaKnrcTmqEkY"
      },
      "source": [
        "Remove first element with specific value using 'remove'"
      ]
    },
    {
      "cell_type": "code",
      "execution_count": 74,
      "metadata": {
        "colab": {
          "base_uri": "https://localhost:8080/",
          "height": 210
        },
        "id": "Cc0iezYqqEkY",
        "outputId": "4f11be18-6843-47fe-f290-96a78b725520"
      },
      "outputs": [
        {
          "output_type": "error",
          "ename": "ValueError",
          "evalue": "list.remove(x): x not in list",
          "traceback": [
            "\u001b[0;31m---------------------------------------------------------------------------\u001b[0m",
            "\u001b[0;31mValueError\u001b[0m                                Traceback (most recent call last)",
            "\u001b[0;32m<ipython-input-74-897e39d1dcfd>\u001b[0m in \u001b[0;36m<cell line: 1>\u001b[0;34m()\u001b[0m\n\u001b[0;32m----> 1\u001b[0;31m \u001b[0ml\u001b[0m\u001b[0;34m.\u001b[0m\u001b[0mremove\u001b[0m\u001b[0;34m(\u001b[0m\u001b[0;34m\"A\"\u001b[0m\u001b[0;34m)\u001b[0m\u001b[0;34m\u001b[0m\u001b[0;34m\u001b[0m\u001b[0m\n\u001b[0m\u001b[1;32m      2\u001b[0m \u001b[0;34m\u001b[0m\u001b[0m\n\u001b[1;32m      3\u001b[0m \u001b[0mprint\u001b[0m\u001b[0;34m(\u001b[0m\u001b[0ml\u001b[0m\u001b[0;34m)\u001b[0m\u001b[0;34m\u001b[0m\u001b[0;34m\u001b[0m\u001b[0m\n",
            "\u001b[0;31mValueError\u001b[0m: list.remove(x): x not in list"
          ]
        }
      ],
      "source": [
        "l.remove(\"A\")\n",
        "\n",
        "print(l)"
      ]
    },
    {
      "cell_type": "markdown",
      "metadata": {
        "id": "xCqUGmSeqEkY"
      },
      "source": [
        "Remove an element at a specific location using `del`:"
      ]
    },
    {
      "cell_type": "code",
      "execution_count": 75,
      "metadata": {
        "colab": {
          "base_uri": "https://localhost:8080/"
        },
        "id": "1udoXdznqEkY",
        "outputId": "6604d5c1-aa5c-4825-b6ca-75e32e778ea4"
      },
      "outputs": [
        {
          "output_type": "stream",
          "name": "stdout",
          "text": [
            "['i', 'n', 's', 'e', 'r', 't']\n"
          ]
        }
      ],
      "source": [
        "\n",
        "del l[6:]\n",
        "\n",
        "print(l)"
      ]
    },
    {
      "cell_type": "markdown",
      "metadata": {
        "id": "PBUxKL6dqEkZ"
      },
      "source": [
        "See `help(list)` for more details, or read the online documentation"
      ]
    },
    {
      "cell_type": "markdown",
      "metadata": {
        "id": "76_5nZa8qEkZ"
      },
      "source": [
        "### Tuples"
      ]
    },
    {
      "cell_type": "markdown",
      "metadata": {
        "id": "Q4_mh6HPqEkZ"
      },
      "source": [
        "Tuples are like lists, except that they cannot be modified once created, that is they are *immutable*.\n",
        "\n",
        "In Python, tuples are created using the syntax `(..., ..., ...)`, or even `..., ...`:"
      ]
    },
    {
      "cell_type": "code",
      "execution_count": 76,
      "metadata": {
        "colab": {
          "base_uri": "https://localhost:8080/"
        },
        "id": "hHoBDZznqEkZ",
        "outputId": "413174f5-fa1a-4e47-8937-237bcd60ee77"
      },
      "outputs": [
        {
          "output_type": "stream",
          "name": "stdout",
          "text": [
            "(10, 20) <class 'tuple'>\n"
          ]
        }
      ],
      "source": [
        "point = (10, 20)\n",
        "\n",
        "print(point, type(point))"
      ]
    },
    {
      "cell_type": "code",
      "execution_count": 77,
      "metadata": {
        "colab": {
          "base_uri": "https://localhost:8080/"
        },
        "id": "LPjR2BxwqEka",
        "outputId": "05ba7a04-2582-45f4-b9e1-9350fd32c963"
      },
      "outputs": [
        {
          "output_type": "stream",
          "name": "stdout",
          "text": [
            "(10, 20) <class 'tuple'>\n"
          ]
        }
      ],
      "source": [
        "point = 10, 20\n",
        "\n",
        "print(point, type(point))"
      ]
    },
    {
      "cell_type": "markdown",
      "metadata": {
        "id": "X33JWnTUqEka"
      },
      "source": [
        "We can unpack a tuple by assigning it to a comma-separated list of variables:"
      ]
    },
    {
      "cell_type": "code",
      "execution_count": 78,
      "metadata": {
        "colab": {
          "base_uri": "https://localhost:8080/"
        },
        "id": "mLxqrxaXqEka",
        "outputId": "a9e7d5a0-7576-4b46-a08d-99d16b184253"
      },
      "outputs": [
        {
          "output_type": "stream",
          "name": "stdout",
          "text": [
            "x = 10\n",
            "y = 20\n"
          ]
        }
      ],
      "source": [
        "x, y = point\n",
        "\n",
        "print(\"x =\", x)\n",
        "print(\"y =\", y)"
      ]
    },
    {
      "cell_type": "markdown",
      "metadata": {
        "id": "hgDX9_AhqEka"
      },
      "source": [
        "If we try to assign a new value to an element in a tuple we get an error:"
      ]
    },
    {
      "cell_type": "code",
      "execution_count": 79,
      "metadata": {
        "colab": {
          "base_uri": "https://localhost:8080/",
          "height": 175
        },
        "id": "joto3NdWqEkb",
        "outputId": "9b344293-8608-455e-cf3b-8f6b650f45f4"
      },
      "outputs": [
        {
          "output_type": "error",
          "ename": "TypeError",
          "evalue": "'tuple' object does not support item assignment",
          "traceback": [
            "\u001b[0;31m---------------------------------------------------------------------------\u001b[0m",
            "\u001b[0;31mTypeError\u001b[0m                                 Traceback (most recent call last)",
            "\u001b[0;32m<ipython-input-79-9734b1daa940>\u001b[0m in \u001b[0;36m<cell line: 1>\u001b[0;34m()\u001b[0m\n\u001b[0;32m----> 1\u001b[0;31m \u001b[0mpoint\u001b[0m\u001b[0;34m[\u001b[0m\u001b[0;36m0\u001b[0m\u001b[0;34m]\u001b[0m \u001b[0;34m=\u001b[0m \u001b[0;36m20\u001b[0m\u001b[0;34m\u001b[0m\u001b[0;34m\u001b[0m\u001b[0m\n\u001b[0m",
            "\u001b[0;31mTypeError\u001b[0m: 'tuple' object does not support item assignment"
          ]
        }
      ],
      "source": [
        "point[0] = 20"
      ]
    },
    {
      "cell_type": "markdown",
      "metadata": {
        "id": "5XEomw5iqEkb"
      },
      "source": [
        "### Dictionaries"
      ]
    },
    {
      "cell_type": "markdown",
      "metadata": {
        "id": "RBdMmz73qEkb"
      },
      "source": [
        "Dictionaries are also like lists, except that each element is a key-value pair. The syntax for dictionaries is `{key1 : value1, ...}`:"
      ]
    },
    {
      "cell_type": "code",
      "execution_count": 80,
      "metadata": {
        "colab": {
          "base_uri": "https://localhost:8080/"
        },
        "id": "Ev0BQO-EqEkb",
        "outputId": "c0cd6c4a-4bae-4ddc-ad2a-b707f5471649"
      },
      "outputs": [
        {
          "output_type": "stream",
          "name": "stdout",
          "text": [
            "<class 'dict'>\n",
            "{'parameter1': 1.0, 'parameter2': 2.0, 'parameter3': 3.0}\n"
          ]
        }
      ],
      "source": [
        "params = {\"parameter1\" : 1.0,\n",
        "          \"parameter2\" : 2.0,\n",
        "          \"parameter3\" : 3.0,}\n",
        "\n",
        "print(type(params))\n",
        "print(params)"
      ]
    },
    {
      "cell_type": "code",
      "execution_count": 81,
      "metadata": {
        "colab": {
          "base_uri": "https://localhost:8080/"
        },
        "id": "_E_9-8U_qEkb",
        "outputId": "a6629611-235e-4bbd-9422-0ada25946b88"
      },
      "outputs": [
        {
          "output_type": "stream",
          "name": "stdout",
          "text": [
            "parameter1 = 1.0\n",
            "parameter2 = 2.0\n",
            "parameter3 = 3.0\n"
          ]
        }
      ],
      "source": [
        "print(\"parameter1 = \" + str(params[\"parameter1\"]))\n",
        "print(\"parameter2 = \" + str(params[\"parameter2\"]))\n",
        "print(\"parameter3 = \" + str(params[\"parameter3\"]))"
      ]
    },
    {
      "cell_type": "code",
      "execution_count": 84,
      "metadata": {
        "colab": {
          "base_uri": "https://localhost:8080/"
        },
        "id": "-5EM8s8NqEkc",
        "outputId": "ac5a3e98-06cc-4bc6-d60b-57e35881551b"
      },
      "outputs": [
        {
          "output_type": "stream",
          "name": "stdout",
          "text": [
            "9.0\n",
            "parameter1 = A\n",
            "parameter2 = B\n",
            "parameter3 = 3.0\n",
            "parameter4 = D\n"
          ]
        }
      ],
      "source": [
        "params[\"parameter1\"] = \"A\"\n",
        "params[\"parameter2\"] = \"B\"\n",
        "print(params[\"parameter3\"] * 3)\n",
        "# add a new entry\n",
        "params[\"parameter4\"] = \"D\"\n",
        "\n",
        "print(\"parameter1 = \" + str(params[\"parameter1\"]))\n",
        "print(\"parameter2 = \" + str(params[\"parameter2\"]))\n",
        "print(\"parameter3 = \" + str(params[\"parameter3\"]))\n",
        "print(\"parameter4 = \" + str(params[\"parameter4\"]))"
      ]
    },
    {
      "cell_type": "markdown",
      "metadata": {
        "id": "hmnZHhkUqEkc"
      },
      "source": [
        "## Control Flow"
      ]
    },
    {
      "cell_type": "markdown",
      "metadata": {
        "id": "g-l8W20SqEkc"
      },
      "source": [
        "### Conditional statements: if, elif, else"
      ]
    },
    {
      "cell_type": "markdown",
      "metadata": {
        "id": "5wENx8euqEkc"
      },
      "source": [
        "The Python syntax for conditional execution of code uses the keywords `if`, `elif` (else if), `else`:"
      ]
    },
    {
      "cell_type": "code",
      "execution_count": 85,
      "metadata": {
        "colab": {
          "base_uri": "https://localhost:8080/"
        },
        "id": "CxGod-PFqEkc",
        "outputId": "59a6b489-3f65-4c9c-c3fe-c562aad2c111"
      },
      "outputs": [
        {
          "output_type": "stream",
          "name": "stdout",
          "text": [
            "statement1 and statement2 are False\n"
          ]
        }
      ],
      "source": [
        "statement1 = False\n",
        "statement2 = False\n",
        "\n",
        "if statement1:\n",
        "    print(\"statement1 is True\")\n",
        "\n",
        "elif statement2:\n",
        "    print(\"statement2 is True\")\n",
        "\n",
        "else:\n",
        "    print(\"statement1 and statement2 are False\")"
      ]
    },
    {
      "cell_type": "markdown",
      "metadata": {
        "id": "Loi3DBmLqEkd"
      },
      "source": [
        "For the first time, here we encounted a peculiar and unusual aspect of the Python programming language: Program blocks are defined by their indentation level.\n",
        "\n",
        "Compare to the equivalent C code:\n",
        "\n",
        "    if (statement1)\n",
        "    {\n",
        "        printf(\"statement1 is True\\n\");\n",
        "    }\n",
        "    else if (statement2)\n",
        "    {\n",
        "        printf(\"statement2 is True\\n\");\n",
        "    }\n",
        "    else\n",
        "    {\n",
        "        printf(\"statement1 and statement2 are False\\n\");\n",
        "    }\n",
        "\n",
        "In C blocks are defined by the enclosing curly brakets `{` and `}`. And the level of indentation (white space before the code statements) does not matter (completely optional).\n",
        "\n",
        "But in Python, the extent of a code block is defined by the indentation level (usually a tab or say four white spaces). This means that we have to be careful to indent our code correctly, or else we will get syntax errors."
      ]
    },
    {
      "cell_type": "markdown",
      "metadata": {
        "id": "G8LIkrurqEkd"
      },
      "source": [
        "#### Examples:"
      ]
    },
    {
      "cell_type": "code",
      "execution_count": 86,
      "metadata": {
        "colab": {
          "base_uri": "https://localhost:8080/"
        },
        "id": "VtjehAVgqEkd",
        "outputId": "0f0fac35-18a3-4bd1-d162-ebd690bf4473"
      },
      "outputs": [
        {
          "output_type": "stream",
          "name": "stdout",
          "text": [
            "both statement1 and statement2 are True\n"
          ]
        }
      ],
      "source": [
        "statement1 = statement2 = True\n",
        "\n",
        "if statement1:\n",
        "    if statement2:\n",
        "        print(\"both statement1 and statement2 are True\")"
      ]
    },
    {
      "cell_type": "code",
      "execution_count": 88,
      "metadata": {
        "colab": {
          "base_uri": "https://localhost:8080/"
        },
        "id": "I556d8-dqEkd",
        "outputId": "39dda447-69cb-4139-cef0-84f5caf8d551"
      },
      "outputs": [
        {
          "output_type": "stream",
          "name": "stdout",
          "text": [
            "both statement1 and statement2 are True\n"
          ]
        }
      ],
      "source": [
        "# Bad indentation!\n",
        "if statement1:\n",
        "    if statement2:\n",
        "      print(\"both statement1 and statement2 are True\")  # this line is not properly indented"
      ]
    },
    {
      "cell_type": "code",
      "execution_count": 93,
      "metadata": {
        "colab": {
          "base_uri": "https://localhost:8080/"
        },
        "id": "cNTGVfZ-qEkd",
        "outputId": "d0a39a3f-9660-4f17-82e8-88257ff9abe0"
      },
      "outputs": [
        {
          "output_type": "stream",
          "name": "stdout",
          "text": [
            "still inside the if block\n"
          ]
        }
      ],
      "source": [
        "statement1 = False\n",
        "\n",
        "if statement1:\n",
        "  print(\"printed if statement1 is True\")\n",
        "\n",
        "print(\"still inside the if block\")"
      ]
    },
    {
      "cell_type": "code",
      "execution_count": 94,
      "metadata": {
        "colab": {
          "base_uri": "https://localhost:8080/"
        },
        "id": "hZNGzJX1qEke",
        "outputId": "5c7f5fc3-783d-4382-c7fc-2b1c849bdf90"
      },
      "outputs": [
        {
          "output_type": "stream",
          "name": "stdout",
          "text": [
            "now outside the if block\n"
          ]
        }
      ],
      "source": [
        "if statement1:\n",
        "    print(\"printed if statement1 is True\")\n",
        "\n",
        "print(\"now outside the if block\")"
      ]
    },
    {
      "cell_type": "markdown",
      "metadata": {
        "id": "t8SX9ZVEqEke"
      },
      "source": [
        "## Loops"
      ]
    },
    {
      "cell_type": "markdown",
      "metadata": {
        "id": "_5Cwbs5DqEke"
      },
      "source": [
        "In Python, loops can be programmed in a number of different ways. The most common is the `for` loop, which is used together with iterable objects, such as lists. The basic syntax is:"
      ]
    },
    {
      "cell_type": "markdown",
      "metadata": {
        "id": "PBwcI5tbqEke"
      },
      "source": [
        "### **`for` loops**:"
      ]
    },
    {
      "cell_type": "code",
      "execution_count": 95,
      "metadata": {
        "colab": {
          "base_uri": "https://localhost:8080/"
        },
        "id": "Jr2JIrFfqEkf",
        "outputId": "fca1691a-2dc6-445a-e18f-9b7fdc9288b7"
      },
      "outputs": [
        {
          "output_type": "stream",
          "name": "stdout",
          "text": [
            "1\n",
            "2\n",
            "3\n"
          ]
        }
      ],
      "source": [
        "for x in [1,2,3]:\n",
        "    print(x)"
      ]
    },
    {
      "cell_type": "markdown",
      "metadata": {
        "id": "vvAD-bNxqEkf"
      },
      "source": [
        "The `for` loop iterates over the elements of the supplied list, and executes the containing block once for each element. Any kind of list can be used in the `for` loop. For example:"
      ]
    },
    {
      "cell_type": "code",
      "execution_count": 96,
      "metadata": {
        "colab": {
          "base_uri": "https://localhost:8080/"
        },
        "id": "LkEw-G8nqEkf",
        "outputId": "23c606f9-661b-42ff-fd63-3fa752a54575"
      },
      "outputs": [
        {
          "output_type": "stream",
          "name": "stdout",
          "text": [
            "0\n",
            "1\n",
            "2\n",
            "3\n"
          ]
        }
      ],
      "source": [
        "for x in range(4): # by default range start at 0\n",
        "    print(x)"
      ]
    },
    {
      "cell_type": "markdown",
      "metadata": {
        "id": "IPtM4VtVqEkf"
      },
      "source": [
        "Note: `range(4)` does not include 4 !"
      ]
    },
    {
      "cell_type": "code",
      "execution_count": 97,
      "metadata": {
        "colab": {
          "base_uri": "https://localhost:8080/"
        },
        "id": "aDn40RljqEkf",
        "outputId": "63eaf15d-e53f-4c8b-9335-221d2f9be492"
      },
      "outputs": [
        {
          "output_type": "stream",
          "name": "stdout",
          "text": [
            "-3\n",
            "-2\n",
            "-1\n",
            "0\n",
            "1\n",
            "2\n"
          ]
        }
      ],
      "source": [
        "for x in range(-3,3):\n",
        "    print(x)"
      ]
    },
    {
      "cell_type": "code",
      "execution_count": 98,
      "metadata": {
        "colab": {
          "base_uri": "https://localhost:8080/"
        },
        "id": "i-2lIH8BqEkf",
        "outputId": "1c10bd80-bd51-42ab-8e93-2df05486cd22"
      },
      "outputs": [
        {
          "output_type": "stream",
          "name": "stdout",
          "text": [
            "scientific\n",
            "computing\n",
            "with\n",
            "python\n"
          ]
        }
      ],
      "source": [
        "for word in [\"scientific\", \"computing\", \"with\", \"python\"]:\n",
        "    print(word)"
      ]
    },
    {
      "cell_type": "markdown",
      "metadata": {
        "id": "lP8wCPI9qEkf"
      },
      "source": [
        "To iterate over key-value pairs of a dictionary:"
      ]
    },
    {
      "cell_type": "code",
      "execution_count": 99,
      "metadata": {
        "colab": {
          "base_uri": "https://localhost:8080/"
        },
        "id": "pZJuuWo8qEkf",
        "outputId": "fbcd5f3b-ca32-4011-d6c5-300073303644"
      },
      "outputs": [
        {
          "output_type": "stream",
          "name": "stdout",
          "text": [
            "parameter1 = A\n",
            "parameter2 = B\n",
            "parameter3 = 3.0\n",
            "parameter4 = D\n"
          ]
        }
      ],
      "source": [
        "for key, value in params.items():\n",
        "    print(key + \" = \" + str(value))"
      ]
    },
    {
      "cell_type": "markdown",
      "metadata": {
        "id": "cvx7EdxVqEkg"
      },
      "source": [
        "Sometimes it is useful to have access to the indices of the values when iterating over a list. We can use the `enumerate` function for this:"
      ]
    },
    {
      "cell_type": "code",
      "execution_count": 100,
      "metadata": {
        "colab": {
          "base_uri": "https://localhost:8080/"
        },
        "id": "Xi7ISCmcqEkg",
        "outputId": "0d489533-0c2c-4ed6-b58b-e158380b9cbb"
      },
      "outputs": [
        {
          "output_type": "stream",
          "name": "stdout",
          "text": [
            "0 -3\n",
            "1 -2\n",
            "2 -1\n",
            "3 0\n",
            "4 1\n",
            "5 2\n"
          ]
        }
      ],
      "source": [
        "for idx, x in enumerate(range(-3,3)):\n",
        "    print(idx, x)"
      ]
    },
    {
      "cell_type": "markdown",
      "metadata": {
        "id": "PNJ53eLqqEkg"
      },
      "source": [
        "### List comprehensions: Creating lists using `for` loops:"
      ]
    },
    {
      "cell_type": "markdown",
      "metadata": {
        "id": "9inhJoEoqEkg"
      },
      "source": [
        "A convenient and compact way to initialize lists:"
      ]
    },
    {
      "cell_type": "code",
      "execution_count": 101,
      "metadata": {
        "colab": {
          "base_uri": "https://localhost:8080/"
        },
        "id": "HjOFl-ziqEkg",
        "outputId": "2eb4a411-8dea-42b2-ab3c-3d7533a8a195"
      },
      "outputs": [
        {
          "output_type": "stream",
          "name": "stdout",
          "text": [
            "[0, 1, 4, 9, 16]\n"
          ]
        }
      ],
      "source": [
        "l1 = [x**2 for x in range(0,5)]\n",
        "\n",
        "print(l1)"
      ]
    },
    {
      "cell_type": "markdown",
      "metadata": {
        "id": "uWcNaSSGqEkg"
      },
      "source": [
        "## Functions"
      ]
    },
    {
      "cell_type": "markdown",
      "metadata": {
        "id": "jX3tS2P_qEkg"
      },
      "source": [
        "A function in Python is defined using the keyword `def`, followed by a function name, a signature within parentheses `()`, and a colon `:`. The following code, with one additional level of indentation, is the function body."
      ]
    },
    {
      "cell_type": "code",
      "execution_count": 102,
      "metadata": {
        "id": "60HtMroKqEkg"
      },
      "outputs": [],
      "source": [
        "def func0():\n",
        "    print(\"test\")"
      ]
    },
    {
      "cell_type": "code",
      "execution_count": 103,
      "metadata": {
        "colab": {
          "base_uri": "https://localhost:8080/"
        },
        "id": "BI9yArfAqEkh",
        "outputId": "4ee3cfb8-8222-4837-9cff-1f52571ee223"
      },
      "outputs": [
        {
          "output_type": "stream",
          "name": "stdout",
          "text": [
            "test\n"
          ]
        }
      ],
      "source": [
        "func0()"
      ]
    },
    {
      "cell_type": "markdown",
      "metadata": {
        "id": "J7fQ3IYkqEkh"
      },
      "source": [
        "Optionally, but highly recommended, we can define a so called \"docstring\", which is a description of the functions purpose and behaivor. The docstring should follow directly after the function definition, before the code in the function body."
      ]
    },
    {
      "cell_type": "code",
      "execution_count": 104,
      "metadata": {
        "id": "EADVmeVEqEkh"
      },
      "outputs": [],
      "source": [
        "def func1(s):\n",
        "    \"\"\"\n",
        "    Print a string 's' and tell how many characters it has\n",
        "    \"\"\"\n",
        "\n",
        "    print(s + \" has \" + str(len(s)) + \" characters\")"
      ]
    },
    {
      "cell_type": "code",
      "execution_count": 105,
      "metadata": {
        "colab": {
          "base_uri": "https://localhost:8080/"
        },
        "id": "sAgLa-1jqEkh",
        "outputId": "845eb972-ddde-4c71-a085-764a39cc953e"
      },
      "outputs": [
        {
          "output_type": "stream",
          "name": "stdout",
          "text": [
            "Help on function func1 in module __main__:\n",
            "\n",
            "func1(s)\n",
            "    Print a string 's' and tell how many characters it has\n",
            "\n"
          ]
        }
      ],
      "source": [
        "help(func1)"
      ]
    },
    {
      "cell_type": "code",
      "execution_count": 106,
      "metadata": {
        "colab": {
          "base_uri": "https://localhost:8080/"
        },
        "id": "thBQLLowqEkh",
        "outputId": "3cc79e3f-e61c-4935-f585-e6ea1173a43d"
      },
      "outputs": [
        {
          "output_type": "stream",
          "name": "stdout",
          "text": [
            "test has 4 characters\n"
          ]
        }
      ],
      "source": [
        "func1(\"test\")"
      ]
    },
    {
      "cell_type": "markdown",
      "metadata": {
        "id": "P4VdvjCNqEkh"
      },
      "source": [
        "Functions that returns a value use the `return` keyword:"
      ]
    },
    {
      "cell_type": "code",
      "execution_count": 107,
      "metadata": {
        "id": "TQQAsT6SqEkh"
      },
      "outputs": [],
      "source": [
        "def square(x):\n",
        "    \"\"\"\n",
        "    Return the square of x.\n",
        "    \"\"\"\n",
        "    return x ** 2"
      ]
    },
    {
      "cell_type": "code",
      "execution_count": 108,
      "metadata": {
        "colab": {
          "base_uri": "https://localhost:8080/"
        },
        "id": "RoIz6_R1qEki",
        "outputId": "9fcdddcf-7fe7-422e-8f4e-a012b7e84cb9"
      },
      "outputs": [
        {
          "output_type": "execute_result",
          "data": {
            "text/plain": [
              "16"
            ]
          },
          "metadata": {},
          "execution_count": 108
        }
      ],
      "source": [
        "square(4)"
      ]
    },
    {
      "cell_type": "markdown",
      "metadata": {
        "id": "g5ypL5KeqEki"
      },
      "source": [
        "We can return multiple values from a function using tuples (see above):"
      ]
    },
    {
      "cell_type": "code",
      "execution_count": 109,
      "metadata": {
        "id": "HyQE_fLpqEki"
      },
      "outputs": [],
      "source": [
        "def powers(x):\n",
        "    \"\"\"\n",
        "    Return a few powers of x.\n",
        "    \"\"\"\n",
        "    return x ** 2, x ** 3, x ** 4"
      ]
    },
    {
      "cell_type": "code",
      "execution_count": 110,
      "metadata": {
        "colab": {
          "base_uri": "https://localhost:8080/"
        },
        "id": "FK7t5Q6RqEki",
        "outputId": "7b2ce84e-159e-4d20-8ab3-1778d28142a4"
      },
      "outputs": [
        {
          "output_type": "execute_result",
          "data": {
            "text/plain": [
              "(9, 27, 81)"
            ]
          },
          "metadata": {},
          "execution_count": 110
        }
      ],
      "source": [
        "powers(3)"
      ]
    },
    {
      "cell_type": "code",
      "execution_count": 111,
      "metadata": {
        "colab": {
          "base_uri": "https://localhost:8080/"
        },
        "id": "Ckk22O_kqEki",
        "outputId": "b4d6fb34-2656-4f28-c639-4b254bab9905"
      },
      "outputs": [
        {
          "output_type": "stream",
          "name": "stdout",
          "text": [
            "27\n"
          ]
        }
      ],
      "source": [
        "x2, x3, x4 = powers(3)\n",
        "\n",
        "print(x3)"
      ]
    },
    {
      "cell_type": "markdown",
      "metadata": {
        "id": "cVrbIAR1qEkj"
      },
      "source": [
        "### Default argument and keyword arguments"
      ]
    },
    {
      "cell_type": "markdown",
      "metadata": {
        "id": "Od9cNJYyqEkj"
      },
      "source": [
        "In a definition of a function, we can give default values to the arguments the function takes:"
      ]
    },
    {
      "cell_type": "code",
      "execution_count": 112,
      "metadata": {
        "id": "zZv21ScoqEkj"
      },
      "outputs": [],
      "source": [
        "def myfunc(x, p=2, debug=False):\n",
        "    if debug:\n",
        "        print(\"evaluating myfunc for x = \" + str(x) + \" using exponent p = \" + str(p))\n",
        "    return x**p"
      ]
    },
    {
      "cell_type": "markdown",
      "metadata": {
        "id": "ihYBCafMqEkj"
      },
      "source": [
        "If we don't provide a value of the `debug` argument when calling the the function `myfunc` it defaults to the value provided in the function definition:"
      ]
    },
    {
      "cell_type": "code",
      "execution_count": 113,
      "metadata": {
        "colab": {
          "base_uri": "https://localhost:8080/"
        },
        "id": "zyTcZ8xeqEkj",
        "outputId": "902257e6-8876-441a-b776-5ac25c5a1c81"
      },
      "outputs": [
        {
          "output_type": "execute_result",
          "data": {
            "text/plain": [
              "25"
            ]
          },
          "metadata": {},
          "execution_count": 113
        }
      ],
      "source": [
        "myfunc(5)"
      ]
    },
    {
      "cell_type": "code",
      "execution_count": 114,
      "metadata": {
        "colab": {
          "base_uri": "https://localhost:8080/"
        },
        "id": "4nRxGvEGqEkj",
        "outputId": "58060784-613d-4ebc-b404-661760c16570"
      },
      "outputs": [
        {
          "output_type": "stream",
          "name": "stdout",
          "text": [
            "evaluating myfunc for x = 5 using exponent p = 2\n"
          ]
        },
        {
          "output_type": "execute_result",
          "data": {
            "text/plain": [
              "25"
            ]
          },
          "metadata": {},
          "execution_count": 114
        }
      ],
      "source": [
        "myfunc(5, debug=True)"
      ]
    },
    {
      "cell_type": "markdown",
      "metadata": {
        "id": "UGPxXpFAqEkj"
      },
      "source": [
        "If we explicitly list the name of the arguments in the function calls, they do not need to come in the same order as in the function definition. This is called *keyword* arguments, and is often very useful in functions that takes a lot of optional arguments."
      ]
    },
    {
      "cell_type": "code",
      "execution_count": 115,
      "metadata": {
        "colab": {
          "base_uri": "https://localhost:8080/"
        },
        "id": "2kWhcz3AqEkk",
        "outputId": "d6852e48-c55e-4a39-ffac-89b4d5fcbba7"
      },
      "outputs": [
        {
          "output_type": "stream",
          "name": "stdout",
          "text": [
            "evaluating myfunc for x = 7 using exponent p = 3\n"
          ]
        },
        {
          "output_type": "execute_result",
          "data": {
            "text/plain": [
              "343"
            ]
          },
          "metadata": {},
          "execution_count": 115
        }
      ],
      "source": [
        "myfunc(p=3, debug=True, x=7)"
      ]
    },
    {
      "cell_type": "markdown",
      "metadata": {
        "id": "_BNdktAYqEkk"
      },
      "source": [
        "### Unnamed functions (lambda function)"
      ]
    },
    {
      "cell_type": "markdown",
      "metadata": {
        "id": "QONW6sVlqEkk"
      },
      "source": [
        "In Python we can also create unnamed functions, using the `lambda` keyword:"
      ]
    },
    {
      "cell_type": "code",
      "execution_count": null,
      "metadata": {
        "id": "1Fh7FFgcqEkk"
      },
      "outputs": [],
      "source": [
        "f1 = lambda x: x**2\n",
        "\n",
        "# is equivalent to\n",
        "\n",
        "def f2(x):\n",
        "    return x**2"
      ]
    },
    {
      "cell_type": "code",
      "execution_count": null,
      "metadata": {
        "id": "jsZji1cDqEkk"
      },
      "outputs": [],
      "source": [
        "f1(2), f2(2)"
      ]
    },
    {
      "cell_type": "markdown",
      "metadata": {
        "id": "DxO6rljJqEkk"
      },
      "source": [
        "This technique is useful for example when we want to pass a simple function as an argument to another function, like this:"
      ]
    },
    {
      "cell_type": "code",
      "execution_count": null,
      "metadata": {
        "id": "ZKqkzXCoqEkk"
      },
      "outputs": [],
      "source": [
        "# map is a built-in python function\n",
        "map(lambda x: x**2, range(-3,4))"
      ]
    },
    {
      "cell_type": "code",
      "execution_count": null,
      "metadata": {
        "id": "U5muh4LqqEkk"
      },
      "outputs": [],
      "source": [
        "# in python 3 we can use `list(...)` to convert the iterator to an explicit list\n",
        "list(map(lambda x: x**2, range(-3,4)))"
      ]
    },
    {
      "cell_type": "markdown",
      "metadata": {
        "id": "qlHe8v8SqEkl"
      },
      "source": [
        "## Classes"
      ]
    },
    {
      "cell_type": "markdown",
      "metadata": {
        "id": "16URcTshqEkl"
      },
      "source": [
        "Classes are the key features of object-oriented programming. A class is a structure for representing an object and the operations that can be performed on the object.\n",
        "\n",
        "In Python a class can contain *attributes* (variables) and *methods* (functions).\n",
        "\n",
        "A class is defined almost like a function, but using the `class` keyword, and the class definition usually contains a number of class method definitions (a function in a class).\n",
        "\n",
        "* Each class method should have an argument `self` as its first argument. This object is a self-reference.\n",
        "\n",
        "* Some class method names have special meaning, for example:\n",
        "\n",
        "    * `__init__`: The name of the method that is invoked when the object is first created.\n",
        "    * `__str__` : A method that is invoked when a simple string representation of the class is needed, as for example when printed.\n",
        "    * There are many more, see http://docs.python.org/2/reference/datamodel.html#special-method-names"
      ]
    },
    {
      "cell_type": "code",
      "execution_count": null,
      "metadata": {
        "id": "cVDWRPBlqEkl"
      },
      "outputs": [],
      "source": [
        "class Point:\n",
        "    \"\"\"\n",
        "    Simple class for representing a point in a Cartesian coordinate system.\n",
        "    \"\"\"\n",
        "\n",
        "    def __init__(self, x, y):\n",
        "        \"\"\"\n",
        "        Create a new Point at x, y.\n",
        "        \"\"\"\n",
        "        self.x = x\n",
        "        self.y = y\n",
        "\n",
        "    def translate(self, dx, dy):\n",
        "        \"\"\"\n",
        "        Translate the point by dx and dy in the x and y direction.\n",
        "        \"\"\"\n",
        "        self.x += dx\n",
        "        self.y += dy\n",
        "\n",
        "    def __str__(self):\n",
        "        return(\"Point at [%f, %f]\" % (self.x, self.y))"
      ]
    },
    {
      "cell_type": "markdown",
      "metadata": {
        "id": "PQFxfqERqEkl"
      },
      "source": [
        "To create a new instance of a class:"
      ]
    },
    {
      "cell_type": "code",
      "execution_count": null,
      "metadata": {
        "id": "374ofHrMqEkl"
      },
      "outputs": [],
      "source": [
        "p1 = Point(0, 0) # this will invoke the __init__ method in the Point class\n",
        "\n",
        "print(p1)         # this will invoke the __str__ method"
      ]
    },
    {
      "cell_type": "markdown",
      "metadata": {
        "id": "0FRrvbAJqEkl"
      },
      "source": [
        "To invoke a class method in the class instance `p`:"
      ]
    },
    {
      "cell_type": "code",
      "execution_count": null,
      "metadata": {
        "id": "tygTs6G6qEkl"
      },
      "outputs": [],
      "source": [
        "p2 = Point(1, 1)\n",
        "\n",
        "p1.translate(0.25, 1.5)\n",
        "\n",
        "print(p1)\n",
        "print(p2)"
      ]
    },
    {
      "cell_type": "markdown",
      "metadata": {
        "id": "6NsBbJ-GqEkl"
      },
      "source": [
        "Note that calling class methods can modifiy the state of that particular class instance, but does not effect other class instances or any global variables.\n",
        "\n",
        "That is one of the nice things about object-oriented design: code such as functions and related variables are grouped in separate and independent entities."
      ]
    },
    {
      "cell_type": "markdown",
      "metadata": {
        "id": "7WHqgeSkqEkm"
      },
      "source": [
        "## Further reading"
      ]
    },
    {
      "cell_type": "markdown",
      "metadata": {
        "id": "34wlpjnLqEkm"
      },
      "source": [
        "* http://www.python.org - The official web page of the Python programming language.\n",
        "* http://www.python.org/dev/peps/pep-0008 - Style guide for Python programming. Highly recommended.\n",
        "* http://www.greenteapress.com/thinkpython/ - A free book on Python programming.\n",
        "* [Python Essential Reference](http://www.amazon.com/Python-Essential-Reference-4th-Edition/dp/0672329786) - A good reference book on Python programming."
      ]
    },
    {
      "cell_type": "markdown",
      "metadata": {
        "id": "qjT09VbTqEkm"
      },
      "source": [
        "## Versions"
      ]
    },
    {
      "cell_type": "code",
      "execution_count": null,
      "metadata": {
        "id": "TbPzX2vuqEkm"
      },
      "outputs": [],
      "source": [
        "%load_ext version_information\n",
        "\n",
        "%version_information"
      ]
    }
  ],
  "metadata": {
    "kernelspec": {
      "display_name": "Python 3",
      "language": "python",
      "name": "python3"
    },
    "language_info": {
      "codemirror_mode": {
        "name": "ipython",
        "version": 3
      },
      "file_extension": ".py",
      "mimetype": "text/x-python",
      "name": "python",
      "nbconvert_exporter": "python",
      "pygments_lexer": "ipython3",
      "version": "3.9.1"
    },
    "colab": {
      "provenance": [],
      "collapsed_sections": [
        "XUGUbuxxqEj0",
        "qfrUU2VMqEj1",
        "ydAWghl1qEj2",
        "ClCPSl1XqEj6",
        "xHmSIOiUqEj9",
        "bQCuygujqEj9",
        "058hpAXLqEj9",
        "s-2dVKzgqEj_",
        "zkqk-V52qEkM",
        "WA_nEf52qEkN",
        "zciceoBhqEkQ",
        "SdOIuUFeqEkU",
        "76_5nZa8qEkZ"
      ],
      "include_colab_link": true
    }
  },
  "nbformat": 4,
  "nbformat_minor": 0
}